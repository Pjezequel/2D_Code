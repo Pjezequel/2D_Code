{
 "cells": [
  {
   "cell_type": "code",
   "execution_count": 18,
   "metadata": {},
   "outputs": [
    {
     "data": {
      "image/png": "[encoded data removed]",
      "text/plain": [
       "<PIL.Image.Image image mode=RGB size=100x100 at 0x7FE7CCD78B70>"
      ]
     },
     "execution_count": 18,
     "metadata": {},
     "output_type": "execute_result"
    }
   ],
   "source": [
    "from PIL import Image, ImageDraw\n",
    "image = Image.new(\"RGB\", (100, 100), \"white\")\n",
    "def carre(x:int, y:int, couleur:str, image):\n",
    "    \"\"\"\n",
    "    Dessine un carré de 10*10 de couleur couleur \n",
    "    dont le coin supérieur gauche est aux coordonées x, y\n",
    "    dans l'image image\n",
    "    \"\"\"   \n",
    "    draw = ImageDraw.Draw(image)\n",
    "    draw.rectangle([x,y,x+10,y+10],couleur)\n",
    "    del draw\n",
    "carre(50,50, \"black\", image)\n"
   ]
  },
  {
   "cell_type": "code",
   "execution_count": null,
   "metadata": {},
   "outputs": [],
   "source": []
  }
 ],
 "metadata": {
  "kernelspec": {
   "display_name": "Python 3",
   "language": "python",
   "name": "python3"
  },
  "language_info": {
   "codemirror_mode": {
    "name": "ipython",
    "version": 3
   },
   "file_extension": ".py",
   "mimetype": "text/x-python",
   "name": "python",
   "nbconvert_exporter": "python",
   "pygments_lexer": "ipython3",
   "version": "3.6.10"
  }
 },
 "nbformat": 4,
 "nbformat_minor": 4
}
