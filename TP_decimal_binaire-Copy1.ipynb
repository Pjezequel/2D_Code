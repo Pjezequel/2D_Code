{
 "cells": [
  {
   "cell_type": "markdown",
   "metadata": {},
   "source": [
    "# <center><font face=\"arial\" size=\"5\" color=#0101DF>NUMERIQUE ET SCIENCES INFORMATIQUES 1ère NSI</font></center>"
   ]
  },
  {
   "cell_type": "markdown",
   "metadata": {},
   "source": [
    "## <font color=#013ADF>TP de renforcement sur les conversions de bases 2 et 10 et les fonctions</font>"
   ]
  },
  {
   "cell_type": "markdown",
   "metadata": {},
   "source": [
    "Nom et prénom : JEZEQUEL Pierre\n",
    "\n",
    "Nom et prénom : BURLOT Owen\n",
    "\n",
    "Nom et prénom : LABAT Aude\n",
    "\n",
    "Nom et prénom : LAMBOUR Eliott"
   ]
  },
  {
   "cell_type": "markdown",
   "metadata": {},
   "source": [
    "Remarques :\n",
    "- Avant de réaliser ce travail, on rappelle que l'on a déjà réalisé une fonction qui inverse le sens d'une chaîne de caractère ;\n",
    "- On indiquera les typages manquants des paramètres de la fonction ;\n",
    "- On réalisera au moins un test unitaire à l'aide d'une assertion dans le programme principal ;\n",
    "- On indiquera tout commentaire utile à la compréhension du code."
   ]
  },
  {
   "cell_type": "markdown",
   "metadata": {},
   "source": [
    "**Problème 1 :** On vous demande de réaliser une fonction qui permette la conversion d'un mot **binaire en décimal**."
   ]
  },
  {
   "cell_type": "code",
   "execution_count": 1,
   "metadata": {},
   "outputs": [
    {
     "name": "stdout",
     "output_type": "stream",
     "text": [
      "Entrez le nombre binaire à convertir :1011\n",
      "Le mot binaire 1011 vaut en décimal 11.\n"
     ]
    }
   ],
   "source": [
    "def inverse(chaine:str)->str:\n",
    "    \"\"\"\n",
    "    Fonction prenant en entrée une chaîne de caractères\n",
    "    et retournant cette chaîne inversée\n",
    "    >>> inverse(\"Phrase test\")\n",
    "    'tset esarhP'\n",
    "    \"\"\"\n",
    "    assert len(chaine) >= 1, \"L'entrée doit faire au moins un caractère\"\n",
    "    chaine_inv = \"\"\n",
    "    for lettre in chaine:\n",
    "        chaine_inv = lettre + chaine_inv\n",
    "    return chaine_inv\n",
    "\n",
    "\n",
    "def binaire_vers_decimal(mot:str)->int:\n",
    "    \"\"\"\n",
    "    Fonction recevant en entrée une chaine de caractère représentant\n",
    "    un mot binaire de longueur quelconque et retournant le nombre décimal\n",
    "    équivalent.\n",
    "    >>> binaire_vers_decimal(str(1101))\n",
    "    13\n",
    "    \"\"\"\n",
    "    #votre code ici\n",
    "    for i in mot:\n",
    "        assert int(i)==0 or int(i)==1, \"Veuillez entrer un nombre binaire\"\n",
    "    #Vérifie que le nombre est bien binaire\n",
    "    assert int(mot)>=0,\"On ne peut pas convertir de nombres négatifs\"\n",
    "    dec=[]\n",
    "    nb_dec=0\n",
    "    mot=inverse(mot)\n",
    "    #Crée une liste vide, initialise la variable nb_dec et inverse le mot binaire\n",
    "    for i in range(0,len(mot)):\n",
    "        nb=int(mot[i])*2**i\n",
    "        dec.append(nb)\n",
    "    #Ajoute à la liste la multiplication par une puissance de 2 de chaque nombre du mot binaire\n",
    "    for i in dec:\n",
    "        nb_dec+=i\n",
    "    #Fait la somme des nombres de la liste\n",
    "    return nb_dec\n",
    "# Programme principal\n",
    "if __name__=='__main__':\n",
    "    import doctest\n",
    "    doctest.testmod()\n",
    "    #assert(binaire_vers_decimal(\"1101\")==13)\n",
    "    nbr_binaire = input(\"Entrez le nombre binaire à convertir :\")\n",
    "    nbr_decimal=binaire_vers_decimal(nbr_binaire)\n",
    "    print(f'Le mot binaire {nbr_binaire} vaut en décimal {nbr_decimal}.')"
   ]
  },
  {
   "cell_type": "markdown",
   "metadata": {},
   "source": [
    "**Problème 2 :** On vous demande de réaliser une fonction qui permette la conversion d'un mot **decimal en binaire**, sans utiliser la fonction bin()."
   ]
  },
  {
   "cell_type": "code",
   "execution_count": 2,
   "metadata": {},
   "outputs": [
    {
     "name": "stdout",
     "output_type": "stream",
     "text": [
      "Entrez un nombre decimal: 11\n",
      "Le nombre décimal 11 vaut en binaire 1011.\n"
     ]
    }
   ],
   "source": [
    "def inverse(chaine:str)->str:\n",
    "    \"\"\"\n",
    "    Fonction prenant en entrée une chaîne de caractères\n",
    "    et retournant cette chaîne inversée\n",
    "    >>> inverse(\"Phrase test\")\n",
    "    'tset esarhP'\n",
    "    \"\"\"\n",
    "    assert len(chaine) >= 1, \"L'entrée doit faire au moins un caractère\"\n",
    "    chaine_inv = \"\"\n",
    "    for lettre in chaine:\n",
    "        chaine_inv = lettre + chaine_inv\n",
    "    return chaine_inv\n",
    "\n",
    "def decimal_vers_binaire(nombre:int)-> str:\n",
    "    \"\"\"\n",
    "    Fonction recevant en entrée un entier décimal et retournant la représentation de\n",
    "    ce nombre en binaire sous la forme d'une chaine de caractère.\n",
    "    équivalent.\n",
    "    >>> decimal_vers_binaire(13)\n",
    "    '1101'\n",
    "    \"\"\"\n",
    "    assert nombre >= 0, \"Le nombre doit être positif\"\n",
    "    lst_bin = []\n",
    "    #Crée une liste vide\n",
    "    while nombre >0:\n",
    "        lst_bin.append(nombre%2)\n",
    "        nombre//=2\n",
    "    #Ajoute les restes de la division par 2 de nombre à la liste\n",
    "    for i in range(0, len(lst_bin)):\n",
    "        lst_bin[i]=str(lst_bin[i])\n",
    "    #Convertit les nombres de la liste en caractères\n",
    "    lst_bin = \"\".join(lst_bin)\n",
    "    lst_bin = inverse(lst_bin)\n",
    "    #Inverse la liste et la transforme en chaîne de caractères\n",
    "    return lst_bin\n",
    "\n",
    "# Programme principal\n",
    "if __name__=='__main__':\n",
    "    import doctest\n",
    "    doctest.testmod()\n",
    "    #assert(decimal_vers_binaire(13)==\"1101\")\n",
    "    nbr_decimal = int(input(\"Entrez un nombre decimal: \"))\n",
    "    #print(bin(nbr_decimal))\n",
    "    nbr_binaire=decimal_vers_binaire(nbr_decimal)\n",
    "    print(f'Le nombre décimal {nbr_decimal} vaut en binaire {nbr_binaire}.')"
   ]
  }
 ],
 "metadata": {
  "kernelspec": {
   "display_name": "Python 3",
   "language": "python",
   "name": "python3"
  },
  "language_info": {
   "codemirror_mode": {
    "name": "ipython",
    "version": 3
   },
   "file_extension": ".py",
   "mimetype": "text/x-python",
   "name": "python",
   "nbconvert_exporter": "python",
   "pygments_lexer": "ipython3",
   "version": "3.6.10"
  },
  "varInspector": {
   "cols": {
    "lenName": 16,
    "lenType": 16,
    "lenVar": 40
   },
   "kernels_config": {
    "python": {
     "delete_cmd_postfix": "",
     "delete_cmd_prefix": "del ",
     "library": "var_list.py",
     "varRefreshCmd": "print(var_dic_list())"
    },
    "r": {
     "delete_cmd_postfix": ") ",
     "delete_cmd_prefix": "rm(",
     "library": "var_list.r",
     "varRefreshCmd": "cat(var_dic_list()) "
    }
   },
   "types_to_exclude": [
    "module",
    "function",
    "builtin_function_or_method",
    "instance",
    "_Feature"
   ],
   "window_display": false
  }
 },
 "nbformat": 4,
 "nbformat_minor": 2
}
